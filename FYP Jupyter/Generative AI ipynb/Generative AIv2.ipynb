{
 "cells": [
  {
   "cell_type": "markdown",
   "metadata": {},
   "source": [
    "# <b>FYP 2 (Ryan Kho Yuen Thian)</b>"
   ]
  },
  {
   "cell_type": "markdown",
   "metadata": {},
   "source": [
    "# <b>Generative AI Approach using ChatGPT Data Analyst</b>"
   ]
  },
  {
   "cell_type": "markdown",
   "metadata": {},
   "source": [
    "<hr/>"
   ]
  },
  {
   "cell_type": "markdown",
   "metadata": {},
   "source": [
    "## Segment 1: Importing Libraries"
   ]
  },
  {
   "cell_type": "markdown",
   "metadata": {},
   "source": [
    "This segment imports the necessary libraries for data manipulation, visualization, and model building."
   ]
  },
  {
   "cell_type": "code",
   "execution_count": 1,
   "metadata": {},
   "outputs": [],
   "source": [
    "import pandas as pd\n",
    "import numpy as np\n",
    "import matplotlib.pyplot as plt\n",
    "import seaborn as sns\n",
    "from sklearn.model_selection import train_test_split, GridSearchCV, StratifiedKFold\n",
    "from sklearn.preprocessing import LabelEncoder, StandardScaler\n",
    "from sklearn.linear_model import LogisticRegression\n",
    "from sklearn.ensemble import RandomForestClassifier, GradientBoostingClassifier\n",
    "from sklearn.metrics import accuracy_score, precision_score, recall_score, f1_score, roc_auc_score, confusion_matrix\n",
    "from sklearn.utils import resample\n",
    "import joblib"
   ]
  },
  {
   "cell_type": "markdown",
   "metadata": {},
   "source": [
    "## Segment 2: Loading and Preprocessing the Dataset"
   ]
  },
  {
   "cell_type": "markdown",
   "metadata": {},
   "source": [
    "This segment loads the dataset from a file and assigns appropriate column names to the DataFrame."
   ]
  },
  {
   "cell_type": "code",
   "execution_count": 2,
   "metadata": {},
   "outputs": [],
   "source": [
    "# Load the dataset\n",
    "data = pd.read_csv('german.txt', sep=' ', header=None)\n",
    "\n",
    "# Adding column names (based on the common understanding of the dataset)\n",
    "columns = ['Status_checking', 'Duration', 'Credit_history', 'Purpose', 'Credit_amount',\n",
    "           'Savings_account', 'Present_employment', 'Installment_rate', 'Personal_status',\n",
    "           'Other_debtors', 'Residence_since', 'Property', 'Age', 'Other_installment_plans',\n",
    "           'Housing', 'Existing_credits', 'Job', 'Number_liable', 'Telephone', 'Foreign_worker', 'Target']\n",
    "data.columns = columns"
   ]
  },
  {
   "cell_type": "markdown",
   "metadata": {},
   "source": [
    "## Segment 3: Data Exploration"
   ]
  },
  {
   "cell_type": "markdown",
   "metadata": {},
   "source": [
    "This segment provides an overview of the dataset, including the data types and missing values."
   ]
  },
  {
   "cell_type": "code",
   "execution_count": 3,
   "metadata": {},
   "outputs": [
    {
     "name": "stdout",
     "output_type": "stream",
     "text": [
      "<class 'pandas.core.frame.DataFrame'>\n",
      "RangeIndex: 1000 entries, 0 to 999\n",
      "Data columns (total 21 columns):\n",
      " #   Column                   Non-Null Count  Dtype \n",
      "---  ------                   --------------  ----- \n",
      " 0   Status_checking          1000 non-null   object\n",
      " 1   Duration                 1000 non-null   int64 \n",
      " 2   Credit_history           1000 non-null   object\n",
      " 3   Purpose                  1000 non-null   object\n",
      " 4   Credit_amount            1000 non-null   int64 \n",
      " 5   Savings_account          1000 non-null   object\n",
      " 6   Present_employment       1000 non-null   object\n",
      " 7   Installment_rate         1000 non-null   int64 \n",
      " 8   Personal_status          1000 non-null   object\n",
      " 9   Other_debtors            1000 non-null   object\n",
      " 10  Residence_since          1000 non-null   int64 \n",
      " 11  Property                 1000 non-null   object\n",
      " 12  Age                      1000 non-null   int64 \n",
      " 13  Other_installment_plans  1000 non-null   object\n",
      " 14  Housing                  1000 non-null   object\n",
      " 15  Existing_credits         1000 non-null   int64 \n",
      " 16  Job                      1000 non-null   object\n",
      " 17  Number_liable            1000 non-null   int64 \n",
      " 18  Telephone                1000 non-null   object\n",
      " 19  Foreign_worker           1000 non-null   object\n",
      " 20  Target                   1000 non-null   int64 \n",
      "dtypes: int64(8), object(13)\n",
      "memory usage: 164.2+ KB\n"
     ]
    }
   ],
   "source": [
    "data.info()"
   ]
  },
  {
   "cell_type": "markdown",
   "metadata": {},
   "source": [
    "## Segment 4: Target Variable Exploration"
   ]
  },
  {
   "cell_type": "markdown",
   "metadata": {},
   "source": [
    "This segment isolates the target variable for further analysis."
   ]
  },
  {
   "cell_type": "code",
   "execution_count": 4,
   "metadata": {},
   "outputs": [
    {
     "data": {
      "text/plain": [
       "0      1\n",
       "1      2\n",
       "2      1\n",
       "3      1\n",
       "4      2\n",
       "      ..\n",
       "995    1\n",
       "996    1\n",
       "997    1\n",
       "998    2\n",
       "999    1\n",
       "Name: Target, Length: 1000, dtype: int64"
      ]
     },
     "execution_count": 4,
     "metadata": {},
     "output_type": "execute_result"
    }
   ],
   "source": [
    "data['Target']"
   ]
  },
  {
   "cell_type": "markdown",
   "metadata": {},
   "source": [
    "## Segment 5: Splitting the Dataset"
   ]
  },
  {
   "cell_type": "markdown",
   "metadata": {},
   "source": [
    "This segment splits the dataset into training and testing sets, ensuring that the split is stratified by the target variable."
   ]
  },
  {
   "cell_type": "code",
   "execution_count": 5,
   "metadata": {},
   "outputs": [],
   "source": [
    "# Split the data into training and testing sets\n",
    "X = data.drop('Target', axis=1)\n",
    "y = data['Target']\n",
    "X_train, X_test, y_train, y_test = train_test_split(X, y, test_size=0.2, random_state=42, stratify=y)"
   ]
  },
  {
   "cell_type": "markdown",
   "metadata": {},
   "source": [
    "## Segment 6: Handling Class Imbalance"
   ]
  },
  {
   "cell_type": "markdown",
   "metadata": {},
   "source": [
    "This segment addresses class imbalance by upsampling the minority class in the training set."
   ]
  },
  {
   "cell_type": "code",
   "execution_count": 6,
   "metadata": {},
   "outputs": [],
   "source": [
    "# Handle class imbalance using resampling\n",
    "X_train['Target'] = y_train\n",
    "#X_majority = X_train[X_train.Target == 0]\n",
    "#X_minority = X_train[X_train.Target == 1]\n",
    "X_majority = X_train[X_train.Target == 1]\n",
    "X_minority = X_train[X_train.Target == 2]\n",
    "\n",
    "X_minority_upsampled = resample(X_minority, \n",
    "                                replace=True,     # sample with replacement\n",
    "                                n_samples=len(X_majority),    # to match majority class\n",
    "                                random_state=42) # reproducible results\n",
    "\n",
    "X_train_upsampled = pd.concat([X_majority, X_minority_upsampled])\n",
    "\n",
    "y_train = X_train_upsampled.Target\n",
    "X_train = X_train_upsampled.drop('Target', axis=1)"
   ]
  },
  {
   "cell_type": "markdown",
   "metadata": {},
   "source": [
    "## Segment 7: Encoding Categorical Variables"
   ]
  },
  {
   "cell_type": "markdown",
   "metadata": {},
   "source": [
    "This segment encodes categorical variables in both the training and testing sets using Label Encoding."
   ]
  },
  {
   "cell_type": "code",
   "execution_count": 7,
   "metadata": {},
   "outputs": [
    {
     "name": "stdout",
     "output_type": "stream",
     "text": [
      "Classes: ['A11' 'A12' 'A13' 'A14']\n",
      "Class to Label Mapping: {'A11': 0, 'A12': 1, 'A13': 2, 'A14': 3}\n",
      "Classes: ['A30' 'A31' 'A32' 'A33' 'A34']\n",
      "Class to Label Mapping: {'A30': 0, 'A31': 1, 'A32': 2, 'A33': 3, 'A34': 4}\n",
      "Classes: ['A40' 'A41' 'A410' 'A42' 'A43' 'A44' 'A45' 'A46' 'A48' 'A49']\n",
      "Class to Label Mapping: {'A40': 0, 'A41': 1, 'A410': 2, 'A42': 3, 'A43': 4, 'A44': 5, 'A45': 6, 'A46': 7, 'A48': 8, 'A49': 9}\n",
      "Classes: ['A61' 'A62' 'A63' 'A64' 'A65']\n",
      "Class to Label Mapping: {'A61': 0, 'A62': 1, 'A63': 2, 'A64': 3, 'A65': 4}\n",
      "Classes: ['A71' 'A72' 'A73' 'A74' 'A75']\n",
      "Class to Label Mapping: {'A71': 0, 'A72': 1, 'A73': 2, 'A74': 3, 'A75': 4}\n",
      "Classes: ['A91' 'A92' 'A93' 'A94']\n",
      "Class to Label Mapping: {'A91': 0, 'A92': 1, 'A93': 2, 'A94': 3}\n",
      "Classes: ['A101' 'A102' 'A103']\n",
      "Class to Label Mapping: {'A101': 0, 'A102': 1, 'A103': 2}\n",
      "Classes: ['A121' 'A122' 'A123' 'A124']\n",
      "Class to Label Mapping: {'A121': 0, 'A122': 1, 'A123': 2, 'A124': 3}\n",
      "Classes: ['A141' 'A142' 'A143']\n",
      "Class to Label Mapping: {'A141': 0, 'A142': 1, 'A143': 2}\n",
      "Classes: ['A151' 'A152' 'A153']\n",
      "Class to Label Mapping: {'A151': 0, 'A152': 1, 'A153': 2}\n",
      "Classes: ['A171' 'A172' 'A173' 'A174']\n",
      "Class to Label Mapping: {'A171': 0, 'A172': 1, 'A173': 2, 'A174': 3}\n",
      "Classes: ['A191' 'A192']\n",
      "Class to Label Mapping: {'A191': 0, 'A192': 1}\n",
      "Classes: ['A201' 'A202']\n",
      "Class to Label Mapping: {'A201': 0, 'A202': 1}\n",
      "Class to Label Mapping: {'A11': 0, 'A12': 1, 'A13': 2, 'A14': 3}\n",
      "Class to Label Mapping: {'A30': 0, 'A31': 1, 'A32': 2, 'A33': 3, 'A34': 4}\n",
      "Class to Label Mapping: {'A40': 0, 'A41': 1, 'A410': 2, 'A42': 3, 'A43': 4, 'A44': 5, 'A45': 6, 'A46': 7, 'A48': 8, 'A49': 9}\n",
      "Class to Label Mapping: {'A61': 0, 'A62': 1, 'A63': 2, 'A64': 3, 'A65': 4}\n",
      "Class to Label Mapping: {'A71': 0, 'A72': 1, 'A73': 2, 'A74': 3, 'A75': 4}\n",
      "Class to Label Mapping: {'A91': 0, 'A92': 1, 'A93': 2, 'A94': 3}\n",
      "Class to Label Mapping: {'A101': 0, 'A102': 1, 'A103': 2}\n",
      "Class to Label Mapping: {'A121': 0, 'A122': 1, 'A123': 2, 'A124': 3}\n",
      "Class to Label Mapping: {'A141': 0, 'A142': 1, 'A143': 2}\n",
      "Class to Label Mapping: {'A151': 0, 'A152': 1, 'A153': 2}\n",
      "Class to Label Mapping: {'A171': 0, 'A172': 1, 'A173': 2, 'A174': 3}\n",
      "Class to Label Mapping: {'A191': 0, 'A192': 1}\n",
      "Class to Label Mapping: {'A201': 0, 'A202': 1}\n"
     ]
    }
   ],
   "source": [
    "# Encode categorical variables on the training set\n",
    "for column in X_train.select_dtypes(include=['object']).columns:\n",
    "    le = LabelEncoder()\n",
    "    X_train[column] = le.fit_transform(X_train[column])\n",
    "    print(\"Classes:\", le.classes_)\n",
    "\n",
    "    # Mapping from classes to labels\n",
    "    class_to_label_mapping = {class_: index for index, class_ in enumerate(le.classes_)}\n",
    "    print(\"Class to Label Mapping:\", class_to_label_mapping)\n",
    "\n",
    "for column in X_test.select_dtypes(include=['object']).columns:\n",
    "    le = LabelEncoder()\n",
    "    X_test[column] = le.fit_transform(X_test[column])\n",
    "    # Mapping from classes to labels\n",
    "    class_to_label_mapping = {class_: index for index, class_ in enumerate(le.classes_)}\n",
    "    print(\"Class to Label Mapping:\", class_to_label_mapping)"
   ]
  },
  {
   "cell_type": "markdown",
   "metadata": {},
   "source": [
    "## Segment 8: Outlier Handling"
   ]
  },
  {
   "cell_type": "markdown",
   "metadata": {},
   "source": [
    "This segment handles outliers in the numerical features using the Interquartile Range (IQR) method."
   ]
  },
  {
   "cell_type": "code",
   "execution_count": 9,
   "metadata": {},
   "outputs": [],
   "source": [
    "# Handling outliers using IQR on the training set\n",
    "def handle_outliers(df, target):\n",
    "    indices_to_keep = np.full(df.shape[0], True)\n",
    "    for column in df.select_dtypes(include=['int64', 'float64']).columns:\n",
    "        Q1 = df[column].quantile(0.25)\n",
    "        Q3 = df[column].quantile(0.75)\n",
    "        IQR = Q3 - Q1\n",
    "        filter = (df[column] >= Q1 - 1.5 * IQR) & (df[column] <= Q3 + 1.5 * IQR)\n",
    "        indices_to_keep &= filter\n",
    "    return df[indices_to_keep], target[indices_to_keep]\n",
    "\n",
    "X_train, y_train = handle_outliers(X_train, y_train)"
   ]
  },
  {
   "cell_type": "markdown",
   "metadata": {},
   "source": [
    "## Segment 9: Feature Scaling"
   ]
  },
  {
   "cell_type": "markdown",
   "metadata": {},
   "source": [
    "This segment standardizes the features in the training and testing sets using StandardScaler."
   ]
  },
  {
   "cell_type": "code",
   "execution_count": 10,
   "metadata": {},
   "outputs": [],
   "source": [
    "# Standardizing the features on the training set\n",
    "scaler = StandardScaler()\n",
    "X_train_scaled = pd.DataFrame(scaler.fit_transform(X_train), columns=X_train.columns)\n",
    "X_test_scaled = pd.DataFrame(scaler.transform(X_test), columns=X_test.columns)"
   ]
  },
  {
   "cell_type": "markdown",
   "metadata": {},
   "source": [
    "## Segment 10: Feature Selection"
   ]
  },
  {
   "cell_type": "markdown",
   "metadata": {},
   "source": [
    "This segment selects the most important features using the feature importances from a Random Forest model."
   ]
  },
  {
   "cell_type": "code",
   "execution_count": 11,
   "metadata": {},
   "outputs": [
    {
     "name": "stdout",
     "output_type": "stream",
     "text": [
      "\n",
      "Selected features from RandomForest:\n",
      "['Status_checking', 'Credit_amount', 'Age', 'Duration', 'Savings_account', 'Purpose', 'Present_employment', 'Credit_history', 'Property', 'Personal_status']\n"
     ]
    }
   ],
   "source": [
    "# Feature Selection using RandomForest importance\n",
    "rf = RandomForestClassifier(random_state=42)\n",
    "rf.fit(X_train_scaled, y_train)\n",
    "feature_importances = pd.DataFrame(rf.feature_importances_, index=X_train.columns, columns=['importance']).sort_values('importance', ascending=False)\n",
    "selected_features = feature_importances.head(10).index.tolist()\n",
    "print(\"\\nSelected features from RandomForest:\")\n",
    "print(selected_features)\n",
    "\n",
    "scaler2 = StandardScaler()\n",
    "\n",
    "# Select only the important features\n",
    "X_train_selected = pd.DataFrame(scaler2.fit_transform(X_train[selected_features]), columns = selected_features)\n",
    "X_test_selected = pd.DataFrame(scaler2.transform(X_test[selected_features]), columns = selected_features)"
   ]
  },
  {
   "cell_type": "markdown",
   "metadata": {},
   "source": [
    "## Segment 11: Feature Location Indexing"
   ]
  },
  {
   "cell_type": "markdown",
   "metadata": {},
   "source": [
    "This segment finds the indices of the selected features within the original DataFrame."
   ]
  },
  {
   "cell_type": "code",
   "execution_count": 12,
   "metadata": {},
   "outputs": [
    {
     "data": {
      "text/plain": [
       "[0, 4, 12, 1, 5, 3, 6, 2, 11, 8]"
      ]
     },
     "execution_count": 12,
     "metadata": {},
     "output_type": "execute_result"
    }
   ],
   "source": [
    "[X_train.columns.get_loc(col) for col in selected_features]"
   ]
  },
  {
   "cell_type": "code",
   "execution_count": 2,
   "metadata": {},
   "outputs": [],
   "source": [
    "## Just for Checking Purposes"
   ]
  },
  {
   "cell_type": "code",
   "execution_count": 13,
   "metadata": {},
   "outputs": [
    {
     "data": {
      "text/plain": [
       "['Status_checking',\n",
       " 'Credit_amount',\n",
       " 'Age',\n",
       " 'Duration',\n",
       " 'Savings_account',\n",
       " 'Purpose',\n",
       " 'Present_employment',\n",
       " 'Credit_history',\n",
       " 'Property',\n",
       " 'Personal_status']"
      ]
     },
     "execution_count": 13,
     "metadata": {},
     "output_type": "execute_result"
    }
   ],
   "source": [
    "selected_features"
   ]
  },
  {
   "cell_type": "code",
   "execution_count": 14,
   "metadata": {},
   "outputs": [
    {
     "data": {
      "text/plain": [
       "Index(['Status_checking', 'Duration', 'Credit_history', 'Purpose',\n",
       "       'Credit_amount', 'Savings_account', 'Present_employment',\n",
       "       'Installment_rate', 'Personal_status', 'Other_debtors',\n",
       "       'Residence_since', 'Property', 'Age', 'Other_installment_plans',\n",
       "       'Housing', 'Existing_credits', 'Job', 'Number_liable', 'Telephone',\n",
       "       'Foreign_worker'],\n",
       "      dtype='object')"
      ]
     },
     "execution_count": 14,
     "metadata": {},
     "output_type": "execute_result"
    }
   ],
   "source": [
    "X_train.columns"
   ]
  },
  {
   "cell_type": "code",
   "execution_count": 15,
   "metadata": {},
   "outputs": [
    {
     "data": {
      "text/html": [
       "<div>\n",
       "<style scoped>\n",
       "    .dataframe tbody tr th:only-of-type {\n",
       "        vertical-align: middle;\n",
       "    }\n",
       "\n",
       "    .dataframe tbody tr th {\n",
       "        vertical-align: top;\n",
       "    }\n",
       "\n",
       "    .dataframe thead th {\n",
       "        text-align: right;\n",
       "    }\n",
       "</style>\n",
       "<table border=\"1\" class=\"dataframe\">\n",
       "  <thead>\n",
       "    <tr style=\"text-align: right;\">\n",
       "      <th></th>\n",
       "      <th>Status_checking</th>\n",
       "      <th>Credit_amount</th>\n",
       "      <th>Age</th>\n",
       "      <th>Duration</th>\n",
       "      <th>Savings_account</th>\n",
       "      <th>Purpose</th>\n",
       "      <th>Present_employment</th>\n",
       "      <th>Credit_history</th>\n",
       "      <th>Property</th>\n",
       "      <th>Personal_status</th>\n",
       "    </tr>\n",
       "  </thead>\n",
       "  <tbody>\n",
       "    <tr>\n",
       "      <th>0</th>\n",
       "      <td>1.266514</td>\n",
       "      <td>-0.987118</td>\n",
       "      <td>0.454377</td>\n",
       "      <td>-0.776196</td>\n",
       "      <td>-0.630833</td>\n",
       "      <td>0.237106</td>\n",
       "      <td>1.437344</td>\n",
       "      <td>-0.460371</td>\n",
       "      <td>0.646329</td>\n",
       "      <td>0.475983</td>\n",
       "    </tr>\n",
       "    <tr>\n",
       "      <th>1</th>\n",
       "      <td>-1.145189</td>\n",
       "      <td>1.417073</td>\n",
       "      <td>-0.534190</td>\n",
       "      <td>1.504470</td>\n",
       "      <td>-0.630833</td>\n",
       "      <td>-0.130273</td>\n",
       "      <td>-0.251820</td>\n",
       "      <td>1.420344</td>\n",
       "      <td>-0.366668</td>\n",
       "      <td>0.475983</td>\n",
       "    </tr>\n",
       "    <tr>\n",
       "      <th>2</th>\n",
       "      <td>-0.341288</td>\n",
       "      <td>0.690078</td>\n",
       "      <td>-0.435333</td>\n",
       "      <td>1.504470</td>\n",
       "      <td>2.107537</td>\n",
       "      <td>0.604484</td>\n",
       "      <td>-1.096402</td>\n",
       "      <td>-1.400729</td>\n",
       "      <td>1.659326</td>\n",
       "      <td>-0.791750</td>\n",
       "    </tr>\n",
       "    <tr>\n",
       "      <th>3</th>\n",
       "      <td>-0.341288</td>\n",
       "      <td>3.057419</td>\n",
       "      <td>-0.929616</td>\n",
       "      <td>2.644803</td>\n",
       "      <td>2.107537</td>\n",
       "      <td>-1.232408</td>\n",
       "      <td>0.592762</td>\n",
       "      <td>-0.460371</td>\n",
       "      <td>0.646329</td>\n",
       "      <td>-0.791750</td>\n",
       "    </tr>\n",
       "    <tr>\n",
       "      <th>4</th>\n",
       "      <td>1.266514</td>\n",
       "      <td>-0.175368</td>\n",
       "      <td>0.157807</td>\n",
       "      <td>0.364137</td>\n",
       "      <td>-0.630833</td>\n",
       "      <td>-0.865029</td>\n",
       "      <td>0.592762</td>\n",
       "      <td>1.420344</td>\n",
       "      <td>0.646329</td>\n",
       "      <td>0.475983</td>\n",
       "    </tr>\n",
       "    <tr>\n",
       "      <th>...</th>\n",
       "      <td>...</td>\n",
       "      <td>...</td>\n",
       "      <td>...</td>\n",
       "      <td>...</td>\n",
       "      <td>...</td>\n",
       "      <td>...</td>\n",
       "      <td>...</td>\n",
       "      <td>...</td>\n",
       "      <td>...</td>\n",
       "      <td>...</td>\n",
       "    </tr>\n",
       "    <tr>\n",
       "      <th>810</th>\n",
       "      <td>-0.341288</td>\n",
       "      <td>-0.336981</td>\n",
       "      <td>-1.127329</td>\n",
       "      <td>0.364137</td>\n",
       "      <td>-0.630833</td>\n",
       "      <td>0.237106</td>\n",
       "      <td>-1.096402</td>\n",
       "      <td>-0.460371</td>\n",
       "      <td>-0.366668</td>\n",
       "      <td>1.743717</td>\n",
       "    </tr>\n",
       "    <tr>\n",
       "      <th>811</th>\n",
       "      <td>-0.341288</td>\n",
       "      <td>-0.211165</td>\n",
       "      <td>-0.534190</td>\n",
       "      <td>-0.206029</td>\n",
       "      <td>0.053759</td>\n",
       "      <td>-1.232408</td>\n",
       "      <td>-1.096402</td>\n",
       "      <td>-2.341087</td>\n",
       "      <td>0.646329</td>\n",
       "      <td>-0.791750</td>\n",
       "    </tr>\n",
       "    <tr>\n",
       "      <th>812</th>\n",
       "      <td>-0.341288</td>\n",
       "      <td>-0.861828</td>\n",
       "      <td>-0.039907</td>\n",
       "      <td>-0.206029</td>\n",
       "      <td>2.107537</td>\n",
       "      <td>-1.232408</td>\n",
       "      <td>-0.251820</td>\n",
       "      <td>-0.460371</td>\n",
       "      <td>-0.366668</td>\n",
       "      <td>-0.791750</td>\n",
       "    </tr>\n",
       "    <tr>\n",
       "      <th>813</th>\n",
       "      <td>-0.341288</td>\n",
       "      <td>-0.323820</td>\n",
       "      <td>0.058950</td>\n",
       "      <td>0.364137</td>\n",
       "      <td>-0.630833</td>\n",
       "      <td>-0.130273</td>\n",
       "      <td>-1.940984</td>\n",
       "      <td>0.479986</td>\n",
       "      <td>-0.366668</td>\n",
       "      <td>-0.791750</td>\n",
       "    </tr>\n",
       "    <tr>\n",
       "      <th>814</th>\n",
       "      <td>-1.145189</td>\n",
       "      <td>-0.440687</td>\n",
       "      <td>0.058950</td>\n",
       "      <td>1.504470</td>\n",
       "      <td>-0.630833</td>\n",
       "      <td>-1.232408</td>\n",
       "      <td>-1.096402</td>\n",
       "      <td>-0.460371</td>\n",
       "      <td>0.646329</td>\n",
       "      <td>-0.791750</td>\n",
       "    </tr>\n",
       "  </tbody>\n",
       "</table>\n",
       "<p>815 rows × 10 columns</p>\n",
       "</div>"
      ],
      "text/plain": [
       "     Status_checking  Credit_amount       Age  Duration  Savings_account  \\\n",
       "0           1.266514      -0.987118  0.454377 -0.776196        -0.630833   \n",
       "1          -1.145189       1.417073 -0.534190  1.504470        -0.630833   \n",
       "2          -0.341288       0.690078 -0.435333  1.504470         2.107537   \n",
       "3          -0.341288       3.057419 -0.929616  2.644803         2.107537   \n",
       "4           1.266514      -0.175368  0.157807  0.364137        -0.630833   \n",
       "..               ...            ...       ...       ...              ...   \n",
       "810        -0.341288      -0.336981 -1.127329  0.364137        -0.630833   \n",
       "811        -0.341288      -0.211165 -0.534190 -0.206029         0.053759   \n",
       "812        -0.341288      -0.861828 -0.039907 -0.206029         2.107537   \n",
       "813        -0.341288      -0.323820  0.058950  0.364137        -0.630833   \n",
       "814        -1.145189      -0.440687  0.058950  1.504470        -0.630833   \n",
       "\n",
       "      Purpose  Present_employment  Credit_history  Property  Personal_status  \n",
       "0    0.237106            1.437344       -0.460371  0.646329         0.475983  \n",
       "1   -0.130273           -0.251820        1.420344 -0.366668         0.475983  \n",
       "2    0.604484           -1.096402       -1.400729  1.659326        -0.791750  \n",
       "3   -1.232408            0.592762       -0.460371  0.646329        -0.791750  \n",
       "4   -0.865029            0.592762        1.420344  0.646329         0.475983  \n",
       "..        ...                 ...             ...       ...              ...  \n",
       "810  0.237106           -1.096402       -0.460371 -0.366668         1.743717  \n",
       "811 -1.232408           -1.096402       -2.341087  0.646329        -0.791750  \n",
       "812 -1.232408           -0.251820       -0.460371 -0.366668        -0.791750  \n",
       "813 -0.130273           -1.940984        0.479986 -0.366668        -0.791750  \n",
       "814 -1.232408           -1.096402       -0.460371  0.646329        -0.791750  \n",
       "\n",
       "[815 rows x 10 columns]"
      ]
     },
     "execution_count": 15,
     "metadata": {},
     "output_type": "execute_result"
    }
   ],
   "source": [
    "X_train_selected"
   ]
  },
  {
   "cell_type": "code",
   "execution_count": 16,
   "metadata": {},
   "outputs": [
    {
     "data": {
      "text/html": [
       "<div>\n",
       "<style scoped>\n",
       "    .dataframe tbody tr th:only-of-type {\n",
       "        vertical-align: middle;\n",
       "    }\n",
       "\n",
       "    .dataframe tbody tr th {\n",
       "        vertical-align: top;\n",
       "    }\n",
       "\n",
       "    .dataframe thead th {\n",
       "        text-align: right;\n",
       "    }\n",
       "</style>\n",
       "<table border=\"1\" class=\"dataframe\">\n",
       "  <thead>\n",
       "    <tr style=\"text-align: right;\">\n",
       "      <th></th>\n",
       "      <th>Status_checking</th>\n",
       "      <th>Credit_amount</th>\n",
       "      <th>Age</th>\n",
       "      <th>Duration</th>\n",
       "      <th>Savings_account</th>\n",
       "      <th>Purpose</th>\n",
       "      <th>Present_employment</th>\n",
       "      <th>Credit_history</th>\n",
       "      <th>Property</th>\n",
       "      <th>Personal_status</th>\n",
       "    </tr>\n",
       "  </thead>\n",
       "  <tbody>\n",
       "    <tr>\n",
       "      <th>0</th>\n",
       "      <td>-0.341288</td>\n",
       "      <td>-0.403311</td>\n",
       "      <td>0.256663</td>\n",
       "      <td>-0.206029</td>\n",
       "      <td>1.422945</td>\n",
       "      <td>2.073997</td>\n",
       "      <td>-1.096402</td>\n",
       "      <td>-0.460371</td>\n",
       "      <td>-1.379665</td>\n",
       "      <td>1.743717</td>\n",
       "    </tr>\n",
       "    <tr>\n",
       "      <th>1</th>\n",
       "      <td>-0.341288</td>\n",
       "      <td>-0.431211</td>\n",
       "      <td>0.058950</td>\n",
       "      <td>-0.776196</td>\n",
       "      <td>-0.630833</td>\n",
       "      <td>-0.865029</td>\n",
       "      <td>-1.940984</td>\n",
       "      <td>1.420344</td>\n",
       "      <td>0.646329</td>\n",
       "      <td>0.475983</td>\n",
       "    </tr>\n",
       "    <tr>\n",
       "      <th>2</th>\n",
       "      <td>-1.145189</td>\n",
       "      <td>-0.871304</td>\n",
       "      <td>1.442943</td>\n",
       "      <td>0.364137</td>\n",
       "      <td>-0.630833</td>\n",
       "      <td>0.237106</td>\n",
       "      <td>-1.096402</td>\n",
       "      <td>0.479986</td>\n",
       "      <td>-1.379665</td>\n",
       "      <td>1.743717</td>\n",
       "    </tr>\n",
       "    <tr>\n",
       "      <th>3</th>\n",
       "      <td>-1.145189</td>\n",
       "      <td>0.223664</td>\n",
       "      <td>-0.237620</td>\n",
       "      <td>-0.206029</td>\n",
       "      <td>-0.630833</td>\n",
       "      <td>2.073997</td>\n",
       "      <td>0.592762</td>\n",
       "      <td>-2.341087</td>\n",
       "      <td>-0.366668</td>\n",
       "      <td>0.475983</td>\n",
       "    </tr>\n",
       "    <tr>\n",
       "      <th>4</th>\n",
       "      <td>-0.341288</td>\n",
       "      <td>-0.083770</td>\n",
       "      <td>-1.028473</td>\n",
       "      <td>0.649220</td>\n",
       "      <td>0.738352</td>\n",
       "      <td>0.237106</td>\n",
       "      <td>-0.251820</td>\n",
       "      <td>1.420344</td>\n",
       "      <td>-0.366668</td>\n",
       "      <td>0.475983</td>\n",
       "    </tr>\n",
       "    <tr>\n",
       "      <th>...</th>\n",
       "      <td>...</td>\n",
       "      <td>...</td>\n",
       "      <td>...</td>\n",
       "      <td>...</td>\n",
       "      <td>...</td>\n",
       "      <td>...</td>\n",
       "      <td>...</td>\n",
       "      <td>...</td>\n",
       "      <td>...</td>\n",
       "      <td>...</td>\n",
       "    </tr>\n",
       "    <tr>\n",
       "      <th>195</th>\n",
       "      <td>-1.145189</td>\n",
       "      <td>2.337267</td>\n",
       "      <td>1.937226</td>\n",
       "      <td>2.644803</td>\n",
       "      <td>-0.630833</td>\n",
       "      <td>-0.130273</td>\n",
       "      <td>-0.251820</td>\n",
       "      <td>-2.341087</td>\n",
       "      <td>1.659326</td>\n",
       "      <td>0.475983</td>\n",
       "    </tr>\n",
       "    <tr>\n",
       "      <th>196</th>\n",
       "      <td>-0.341288</td>\n",
       "      <td>-0.132727</td>\n",
       "      <td>0.849803</td>\n",
       "      <td>-0.206029</td>\n",
       "      <td>2.107537</td>\n",
       "      <td>2.073997</td>\n",
       "      <td>1.437344</td>\n",
       "      <td>0.479986</td>\n",
       "      <td>-0.366668</td>\n",
       "      <td>0.475983</td>\n",
       "    </tr>\n",
       "    <tr>\n",
       "      <th>197</th>\n",
       "      <td>1.266514</td>\n",
       "      <td>-0.746014</td>\n",
       "      <td>-0.830759</td>\n",
       "      <td>-0.776196</td>\n",
       "      <td>-0.630833</td>\n",
       "      <td>0.237106</td>\n",
       "      <td>-0.251820</td>\n",
       "      <td>-0.460371</td>\n",
       "      <td>0.646329</td>\n",
       "      <td>0.475983</td>\n",
       "    </tr>\n",
       "    <tr>\n",
       "      <th>198</th>\n",
       "      <td>-1.145189</td>\n",
       "      <td>1.932445</td>\n",
       "      <td>-0.237620</td>\n",
       "      <td>0.934304</td>\n",
       "      <td>2.107537</td>\n",
       "      <td>-0.130273</td>\n",
       "      <td>1.437344</td>\n",
       "      <td>-0.460371</td>\n",
       "      <td>-0.366668</td>\n",
       "      <td>0.475983</td>\n",
       "    </tr>\n",
       "    <tr>\n",
       "      <th>199</th>\n",
       "      <td>1.266514</td>\n",
       "      <td>-0.572820</td>\n",
       "      <td>0.058950</td>\n",
       "      <td>0.079054</td>\n",
       "      <td>0.053759</td>\n",
       "      <td>-0.130273</td>\n",
       "      <td>0.592762</td>\n",
       "      <td>0.479986</td>\n",
       "      <td>-1.379665</td>\n",
       "      <td>0.475983</td>\n",
       "    </tr>\n",
       "  </tbody>\n",
       "</table>\n",
       "<p>200 rows × 10 columns</p>\n",
       "</div>"
      ],
      "text/plain": [
       "     Status_checking  Credit_amount       Age  Duration  Savings_account  \\\n",
       "0          -0.341288      -0.403311  0.256663 -0.206029         1.422945   \n",
       "1          -0.341288      -0.431211  0.058950 -0.776196        -0.630833   \n",
       "2          -1.145189      -0.871304  1.442943  0.364137        -0.630833   \n",
       "3          -1.145189       0.223664 -0.237620 -0.206029        -0.630833   \n",
       "4          -0.341288      -0.083770 -1.028473  0.649220         0.738352   \n",
       "..               ...            ...       ...       ...              ...   \n",
       "195        -1.145189       2.337267  1.937226  2.644803        -0.630833   \n",
       "196        -0.341288      -0.132727  0.849803 -0.206029         2.107537   \n",
       "197         1.266514      -0.746014 -0.830759 -0.776196        -0.630833   \n",
       "198        -1.145189       1.932445 -0.237620  0.934304         2.107537   \n",
       "199         1.266514      -0.572820  0.058950  0.079054         0.053759   \n",
       "\n",
       "      Purpose  Present_employment  Credit_history  Property  Personal_status  \n",
       "0    2.073997           -1.096402       -0.460371 -1.379665         1.743717  \n",
       "1   -0.865029           -1.940984        1.420344  0.646329         0.475983  \n",
       "2    0.237106           -1.096402        0.479986 -1.379665         1.743717  \n",
       "3    2.073997            0.592762       -2.341087 -0.366668         0.475983  \n",
       "4    0.237106           -0.251820        1.420344 -0.366668         0.475983  \n",
       "..        ...                 ...             ...       ...              ...  \n",
       "195 -0.130273           -0.251820       -2.341087  1.659326         0.475983  \n",
       "196  2.073997            1.437344        0.479986 -0.366668         0.475983  \n",
       "197  0.237106           -0.251820       -0.460371  0.646329         0.475983  \n",
       "198 -0.130273            1.437344       -0.460371 -0.366668         0.475983  \n",
       "199 -0.130273            0.592762        0.479986 -1.379665         0.475983  \n",
       "\n",
       "[200 rows x 10 columns]"
      ]
     },
     "execution_count": 16,
     "metadata": {},
     "output_type": "execute_result"
    }
   ],
   "source": [
    "X_test_selected"
   ]
  },
  {
   "cell_type": "markdown",
   "metadata": {},
   "source": [
    "## Segment 12: Model Definition and Hyperparameter Tuning"
   ]
  },
  {
   "cell_type": "markdown",
   "metadata": {},
   "source": [
    "This segment defines the models and their hyperparameters for tuning using GridSearchCV."
   ]
  },
  {
   "cell_type": "code",
   "execution_count": 17,
   "metadata": {},
   "outputs": [],
   "source": [
    "# Define models and hyperparameters\n",
    "models = {\n",
    "    'Logistic Regression': LogisticRegression(max_iter=1000),\n",
    "    'Random Forest': RandomForestClassifier(random_state=42),\n",
    "    'Gradient Boosting': GradientBoostingClassifier(random_state=42)\n",
    "}\n",
    "\n",
    "params = {\n",
    "    'Logistic Regression': {\n",
    "        'C': [0.1, 1, 10, 100],\n",
    "        'penalty': ['l1', 'l2'],\n",
    "        'solver': ['liblinear']\n",
    "    },\n",
    "    'Random Forest': {\n",
    "        'n_estimators': [100, 200, 300],\n",
    "        'max_depth': [5, 10, 20],\n",
    "        'min_samples_split': [2, 5, 10]\n",
    "    },\n",
    "    'Gradient Boosting': {\n",
    "        'learning_rate': [0.01, 0.1, 0.2],\n",
    "        'n_estimators': [100, 200, 300],\n",
    "        'max_depth': [3, 5, 7]\n",
    "    }\n",
    "}"
   ]
  },
  {
   "cell_type": "markdown",
   "metadata": {},
   "source": [
    "## Segment 13: Hyperparameter Tuning with Cross-Validation"
   ]
  },
  {
   "cell_type": "markdown",
   "metadata": {},
   "source": [
    "This segment performs hyperparameter tuning using GridSearchCV, optimizing for recall."
   ]
  },
  {
   "cell_type": "code",
   "execution_count": 18,
   "metadata": {},
   "outputs": [],
   "source": [
    "# Perform Grid Search with Cross-Validation focusing on recall\n",
    "best_models = {}\n",
    "for model_name in models.keys():\n",
    "    grid = GridSearchCV(models[model_name], params[model_name], cv=StratifiedKFold(n_splits=5), scoring='recall', n_jobs=-1)\n",
    "    grid.fit(X_train_selected, y_train)\n",
    "    best_models[model_name] = grid.best_estimator_"
   ]
  },
  {
   "cell_type": "markdown",
   "metadata": {},
   "source": [
    "## Segment 14: Model Evaluation"
   ]
  },
  {
   "cell_type": "markdown",
   "metadata": {},
   "source": [
    "This segment evaluates the performance of the models on the test set using various metrics."
   ]
  },
  {
   "cell_type": "code",
   "execution_count": 19,
   "metadata": {},
   "outputs": [
    {
     "data": {
      "text/plain": [
       "{'Logistic Regression': {'Accuracy': 0.745,\n",
       "  'Precision': 0.8449612403100775,\n",
       "  'Recall': 0.7785714285714286,\n",
       "  'F1 Score': 0.8104089219330853,\n",
       "  'ROC-AUC': 0.7226190476190475},\n",
       " 'Random Forest': {'Accuracy': 0.735,\n",
       "  'Precision': 0.7806451612903226,\n",
       "  'Recall': 0.8642857142857143,\n",
       "  'F1 Score': 0.8203389830508474,\n",
       "  'ROC-AUC': 0.6488095238095238},\n",
       " 'Gradient Boosting': {'Accuracy': 0.735,\n",
       "  'Precision': 0.7770700636942676,\n",
       "  'Recall': 0.8714285714285714,\n",
       "  'F1 Score': 0.8215488215488216,\n",
       "  'ROC-AUC': 0.6440476190476191}}"
      ]
     },
     "execution_count": 19,
     "metadata": {},
     "output_type": "execute_result"
    }
   ],
   "source": [
    "# Evaluating models\n",
    "results = {}\n",
    "for model_name, model in best_models.items():\n",
    "    y_pred = model.predict(X_test_selected)\n",
    "    results[model_name] = {\n",
    "        'Accuracy': accuracy_score(y_test, y_pred),\n",
    "        'Precision': precision_score(y_test, y_pred),\n",
    "        'Recall': recall_score(y_test, y_pred),\n",
    "        'F1 Score': f1_score(y_test, y_pred),\n",
    "        'ROC-AUC': roc_auc_score(y_test, y_pred)\n",
    "    }\n",
    "results"
   ]
  },
  {
   "cell_type": "markdown",
   "metadata": {},
   "source": [
    "## Segment 15: Selecting the Best Model"
   ]
  },
  {
   "cell_type": "markdown",
   "metadata": {},
   "source": [
    "This segment selects the best model based on the highest recall score."
   ]
  },
  {
   "cell_type": "code",
   "execution_count": 20,
   "metadata": {},
   "outputs": [
    {
     "data": {
      "text/html": [
       "<style>#sk-container-id-1 {color: black;}#sk-container-id-1 pre{padding: 0;}#sk-container-id-1 div.sk-toggleable {background-color: white;}#sk-container-id-1 label.sk-toggleable__label {cursor: pointer;display: block;width: 100%;margin-bottom: 0;padding: 0.3em;box-sizing: border-box;text-align: center;}#sk-container-id-1 label.sk-toggleable__label-arrow:before {content: \"▸\";float: left;margin-right: 0.25em;color: #696969;}#sk-container-id-1 label.sk-toggleable__label-arrow:hover:before {color: black;}#sk-container-id-1 div.sk-estimator:hover label.sk-toggleable__label-arrow:before {color: black;}#sk-container-id-1 div.sk-toggleable__content {max-height: 0;max-width: 0;overflow: hidden;text-align: left;background-color: #f0f8ff;}#sk-container-id-1 div.sk-toggleable__content pre {margin: 0.2em;color: black;border-radius: 0.25em;background-color: #f0f8ff;}#sk-container-id-1 input.sk-toggleable__control:checked~div.sk-toggleable__content {max-height: 200px;max-width: 100%;overflow: auto;}#sk-container-id-1 input.sk-toggleable__control:checked~label.sk-toggleable__label-arrow:before {content: \"▾\";}#sk-container-id-1 div.sk-estimator input.sk-toggleable__control:checked~label.sk-toggleable__label {background-color: #d4ebff;}#sk-container-id-1 div.sk-label input.sk-toggleable__control:checked~label.sk-toggleable__label {background-color: #d4ebff;}#sk-container-id-1 input.sk-hidden--visually {border: 0;clip: rect(1px 1px 1px 1px);clip: rect(1px, 1px, 1px, 1px);height: 1px;margin: -1px;overflow: hidden;padding: 0;position: absolute;width: 1px;}#sk-container-id-1 div.sk-estimator {font-family: monospace;background-color: #f0f8ff;border: 1px dotted black;border-radius: 0.25em;box-sizing: border-box;margin-bottom: 0.5em;}#sk-container-id-1 div.sk-estimator:hover {background-color: #d4ebff;}#sk-container-id-1 div.sk-parallel-item::after {content: \"\";width: 100%;border-bottom: 1px solid gray;flex-grow: 1;}#sk-container-id-1 div.sk-label:hover label.sk-toggleable__label {background-color: #d4ebff;}#sk-container-id-1 div.sk-serial::before {content: \"\";position: absolute;border-left: 1px solid gray;box-sizing: border-box;top: 0;bottom: 0;left: 50%;z-index: 0;}#sk-container-id-1 div.sk-serial {display: flex;flex-direction: column;align-items: center;background-color: white;padding-right: 0.2em;padding-left: 0.2em;position: relative;}#sk-container-id-1 div.sk-item {position: relative;z-index: 1;}#sk-container-id-1 div.sk-parallel {display: flex;align-items: stretch;justify-content: center;background-color: white;position: relative;}#sk-container-id-1 div.sk-item::before, #sk-container-id-1 div.sk-parallel-item::before {content: \"\";position: absolute;border-left: 1px solid gray;box-sizing: border-box;top: 0;bottom: 0;left: 50%;z-index: -1;}#sk-container-id-1 div.sk-parallel-item {display: flex;flex-direction: column;z-index: 1;position: relative;background-color: white;}#sk-container-id-1 div.sk-parallel-item:first-child::after {align-self: flex-end;width: 50%;}#sk-container-id-1 div.sk-parallel-item:last-child::after {align-self: flex-start;width: 50%;}#sk-container-id-1 div.sk-parallel-item:only-child::after {width: 0;}#sk-container-id-1 div.sk-dashed-wrapped {border: 1px dashed gray;margin: 0 0.4em 0.5em 0.4em;box-sizing: border-box;padding-bottom: 0.4em;background-color: white;}#sk-container-id-1 div.sk-label label {font-family: monospace;font-weight: bold;display: inline-block;line-height: 1.2em;}#sk-container-id-1 div.sk-label-container {text-align: center;}#sk-container-id-1 div.sk-container {/* jupyter's `normalize.less` sets `[hidden] { display: none; }` but bootstrap.min.css set `[hidden] { display: none !important; }` so we also need the `!important` here to be able to override the default hidden behavior on the sphinx rendered scikit-learn.org. See: https://github.com/scikit-learn/scikit-learn/issues/21755 */display: inline-block !important;position: relative;}#sk-container-id-1 div.sk-text-repr-fallback {display: none;}</style><div id=\"sk-container-id-1\" class=\"sk-top-container\"><div class=\"sk-text-repr-fallback\"><pre>GradientBoostingClassifier(max_depth=7, n_estimators=300, random_state=42)</pre><b>In a Jupyter environment, please rerun this cell to show the HTML representation or trust the notebook. <br />On GitHub, the HTML representation is unable to render, please try loading this page with nbviewer.org.</b></div><div class=\"sk-container\" hidden><div class=\"sk-item\"><div class=\"sk-estimator sk-toggleable\"><input class=\"sk-toggleable__control sk-hidden--visually\" id=\"sk-estimator-id-1\" type=\"checkbox\" checked><label for=\"sk-estimator-id-1\" class=\"sk-toggleable__label sk-toggleable__label-arrow\">GradientBoostingClassifier</label><div class=\"sk-toggleable__content\"><pre>GradientBoostingClassifier(max_depth=7, n_estimators=300, random_state=42)</pre></div></div></div></div></div>"
      ],
      "text/plain": [
       "GradientBoostingClassifier(max_depth=7, n_estimators=300, random_state=42)"
      ]
     },
     "execution_count": 20,
     "metadata": {},
     "output_type": "execute_result"
    }
   ],
   "source": [
    "# Selecting the best model based on Recall\n",
    "best_model_name = max(results, key=lambda x: results[x]['Recall'])\n",
    "best_model = best_models[best_model_name]\n",
    "best_model"
   ]
  },
  {
   "cell_type": "markdown",
   "metadata": {},
   "source": [
    "## Segment 16: Saving the Best Model"
   ]
  },
  {
   "cell_type": "markdown",
   "metadata": {},
   "source": [
    "This segment saves the best model and the scaler to disk for later use."
   ]
  },
  {
   "cell_type": "code",
   "execution_count": 25,
   "metadata": {},
   "outputs": [
    {
     "data": {
      "text/plain": [
       "['final_scaler.pkl']"
      ]
     },
     "execution_count": 25,
     "metadata": {},
     "output_type": "execute_result"
    }
   ],
   "source": [
    "# Save the best model and the scaler\n",
    "joblib.dump(best_model, 'final_best_model.pkl')\n",
    "joblib.dump(scaler2, 'final_scaler.pkl')"
   ]
  },
  {
   "cell_type": "markdown",
   "metadata": {},
   "source": [
    "## Segment 17: Displaying the Results"
   ]
  },
  {
   "cell_type": "markdown",
   "metadata": {},
   "source": [
    "This segment creates a DataFrame from the results dictionary and displays it."
   ]
  },
  {
   "cell_type": "code",
   "execution_count": 22,
   "metadata": {},
   "outputs": [
    {
     "data": {
      "text/html": [
       "<div>\n",
       "<style scoped>\n",
       "    .dataframe tbody tr th:only-of-type {\n",
       "        vertical-align: middle;\n",
       "    }\n",
       "\n",
       "    .dataframe tbody tr th {\n",
       "        vertical-align: top;\n",
       "    }\n",
       "\n",
       "    .dataframe thead th {\n",
       "        text-align: right;\n",
       "    }\n",
       "</style>\n",
       "<table border=\"1\" class=\"dataframe\">\n",
       "  <thead>\n",
       "    <tr style=\"text-align: right;\">\n",
       "      <th></th>\n",
       "      <th>Accuracy</th>\n",
       "      <th>Precision</th>\n",
       "      <th>Recall</th>\n",
       "      <th>F1 Score</th>\n",
       "      <th>ROC-AUC</th>\n",
       "    </tr>\n",
       "  </thead>\n",
       "  <tbody>\n",
       "    <tr>\n",
       "      <th>Logistic Regression</th>\n",
       "      <td>0.745</td>\n",
       "      <td>0.844961</td>\n",
       "      <td>0.778571</td>\n",
       "      <td>0.810409</td>\n",
       "      <td>0.722619</td>\n",
       "    </tr>\n",
       "    <tr>\n",
       "      <th>Random Forest</th>\n",
       "      <td>0.735</td>\n",
       "      <td>0.780645</td>\n",
       "      <td>0.864286</td>\n",
       "      <td>0.820339</td>\n",
       "      <td>0.648810</td>\n",
       "    </tr>\n",
       "    <tr>\n",
       "      <th>Gradient Boosting</th>\n",
       "      <td>0.735</td>\n",
       "      <td>0.777070</td>\n",
       "      <td>0.871429</td>\n",
       "      <td>0.821549</td>\n",
       "      <td>0.644048</td>\n",
       "    </tr>\n",
       "  </tbody>\n",
       "</table>\n",
       "</div>"
      ],
      "text/plain": [
       "                     Accuracy  Precision    Recall  F1 Score   ROC-AUC\n",
       "Logistic Regression     0.745   0.844961  0.778571  0.810409  0.722619\n",
       "Random Forest           0.735   0.780645  0.864286  0.820339  0.648810\n",
       "Gradient Boosting       0.735   0.777070  0.871429  0.821549  0.644048"
      ]
     },
     "execution_count": 22,
     "metadata": {},
     "output_type": "execute_result"
    }
   ],
   "source": [
    "# Displaying the results\n",
    "results_df = pd.DataFrame(results).T\n",
    "results_df"
   ]
  },
  {
   "cell_type": "markdown",
   "metadata": {},
   "source": [
    "## Segment 18: Confusion Matrix Visualization"
   ]
  },
  {
   "cell_type": "markdown",
   "metadata": {},
   "source": [
    "This segment visualizes the confusion matrix for the best model."
   ]
  },
  {
   "cell_type": "code",
   "execution_count": 23,
   "metadata": {
    "scrolled": true
   },
   "outputs": [
    {
     "data": {
      "image/png": "[encoded data removed]",
      "text/plain": [
       "<Figure size 1000x700 with 2 Axes>"
      ]
     },
     "metadata": {},
     "output_type": "display_data"
    }
   ],
   "source": [
    "# Plotting confusion matrix for the best model\n",
    "y_pred_best = best_model.predict(X_test_selected)\n",
    "conf_matrix = confusion_matrix(y_test, y_pred_best)\n",
    "plt.figure(figsize=(10, 7))\n",
    "sns.heatmap(conf_matrix, annot=True, fmt='d', cmap='Blues')\n",
    "plt.title(f'Confusion Matrix for {best_model_name}')\n",
    "plt.xlabel('Predicted')\n",
    "plt.ylabel('Actual')\n",
    "plt.show()"
   ]
  },
  {
   "cell_type": "code",
   "execution_count": 3,
   "metadata": {},
   "outputs": [],
   "source": [
    "## To display SHAP plot later on in deployment"
   ]
  },
  {
   "cell_type": "code",
   "execution_count": 24,
   "metadata": {},
   "outputs": [],
   "source": [
    "csv_file_path1 = 'fin_gen_X_train_resampled.csv'  \n",
    "X_train_selected.to_csv(csv_file_path1, index=False)"
   ]
  },
  {
   "cell_type": "code",
   "execution_count": 45,
   "metadata": {},
   "outputs": [],
   "source": [
    "test_scaler = joblib.load('final_scaler.pkl')"
   ]
  },
  {
   "cell_type": "code",
   "execution_count": 46,
   "metadata": {},
   "outputs": [
    {
     "data": {
      "text/html": [
       "<div>\n",
       "<style scoped>\n",
       "    .dataframe tbody tr th:only-of-type {\n",
       "        vertical-align: middle;\n",
       "    }\n",
       "\n",
       "    .dataframe tbody tr th {\n",
       "        vertical-align: top;\n",
       "    }\n",
       "\n",
       "    .dataframe thead th {\n",
       "        text-align: right;\n",
       "    }\n",
       "</style>\n",
       "<table border=\"1\" class=\"dataframe\">\n",
       "  <thead>\n",
       "    <tr style=\"text-align: right;\">\n",
       "      <th></th>\n",
       "      <th>Status_checking</th>\n",
       "      <th>Credit_amount</th>\n",
       "      <th>Age</th>\n",
       "      <th>Duration</th>\n",
       "      <th>Savings_account</th>\n",
       "      <th>Purpose</th>\n",
       "      <th>Present_employment</th>\n",
       "      <th>Credit_history</th>\n",
       "      <th>Property</th>\n",
       "      <th>Personal_status</th>\n",
       "    </tr>\n",
       "  </thead>\n",
       "  <tbody>\n",
       "    <tr>\n",
       "      <th>0</th>\n",
       "      <td>1.266514</td>\n",
       "      <td>-0.987118</td>\n",
       "      <td>0.454377</td>\n",
       "      <td>-0.776196</td>\n",
       "      <td>-0.630833</td>\n",
       "      <td>0.237106</td>\n",
       "      <td>1.437344</td>\n",
       "      <td>-0.460371</td>\n",
       "      <td>0.646329</td>\n",
       "      <td>0.475983</td>\n",
       "    </tr>\n",
       "    <tr>\n",
       "      <th>1</th>\n",
       "      <td>-1.145189</td>\n",
       "      <td>1.417073</td>\n",
       "      <td>-0.534190</td>\n",
       "      <td>1.504470</td>\n",
       "      <td>-0.630833</td>\n",
       "      <td>-0.130273</td>\n",
       "      <td>-0.251820</td>\n",
       "      <td>1.420344</td>\n",
       "      <td>-0.366668</td>\n",
       "      <td>0.475983</td>\n",
       "    </tr>\n",
       "    <tr>\n",
       "      <th>2</th>\n",
       "      <td>-0.341288</td>\n",
       "      <td>0.690078</td>\n",
       "      <td>-0.435333</td>\n",
       "      <td>1.504470</td>\n",
       "      <td>2.107537</td>\n",
       "      <td>0.604484</td>\n",
       "      <td>-1.096402</td>\n",
       "      <td>-1.400729</td>\n",
       "      <td>1.659326</td>\n",
       "      <td>-0.791750</td>\n",
       "    </tr>\n",
       "    <tr>\n",
       "      <th>3</th>\n",
       "      <td>-0.341288</td>\n",
       "      <td>3.057419</td>\n",
       "      <td>-0.929616</td>\n",
       "      <td>2.644803</td>\n",
       "      <td>2.107537</td>\n",
       "      <td>-1.232408</td>\n",
       "      <td>0.592762</td>\n",
       "      <td>-0.460371</td>\n",
       "      <td>0.646329</td>\n",
       "      <td>-0.791750</td>\n",
       "    </tr>\n",
       "    <tr>\n",
       "      <th>4</th>\n",
       "      <td>1.266514</td>\n",
       "      <td>-0.175368</td>\n",
       "      <td>0.157807</td>\n",
       "      <td>0.364137</td>\n",
       "      <td>-0.630833</td>\n",
       "      <td>-0.865029</td>\n",
       "      <td>0.592762</td>\n",
       "      <td>1.420344</td>\n",
       "      <td>0.646329</td>\n",
       "      <td>0.475983</td>\n",
       "    </tr>\n",
       "    <tr>\n",
       "      <th>...</th>\n",
       "      <td>...</td>\n",
       "      <td>...</td>\n",
       "      <td>...</td>\n",
       "      <td>...</td>\n",
       "      <td>...</td>\n",
       "      <td>...</td>\n",
       "      <td>...</td>\n",
       "      <td>...</td>\n",
       "      <td>...</td>\n",
       "      <td>...</td>\n",
       "    </tr>\n",
       "    <tr>\n",
       "      <th>810</th>\n",
       "      <td>-0.341288</td>\n",
       "      <td>-0.336981</td>\n",
       "      <td>-1.127329</td>\n",
       "      <td>0.364137</td>\n",
       "      <td>-0.630833</td>\n",
       "      <td>0.237106</td>\n",
       "      <td>-1.096402</td>\n",
       "      <td>-0.460371</td>\n",
       "      <td>-0.366668</td>\n",
       "      <td>1.743717</td>\n",
       "    </tr>\n",
       "    <tr>\n",
       "      <th>811</th>\n",
       "      <td>-0.341288</td>\n",
       "      <td>-0.211165</td>\n",
       "      <td>-0.534190</td>\n",
       "      <td>-0.206029</td>\n",
       "      <td>0.053759</td>\n",
       "      <td>-1.232408</td>\n",
       "      <td>-1.096402</td>\n",
       "      <td>-2.341087</td>\n",
       "      <td>0.646329</td>\n",
       "      <td>-0.791750</td>\n",
       "    </tr>\n",
       "    <tr>\n",
       "      <th>812</th>\n",
       "      <td>-0.341288</td>\n",
       "      <td>-0.861828</td>\n",
       "      <td>-0.039907</td>\n",
       "      <td>-0.206029</td>\n",
       "      <td>2.107537</td>\n",
       "      <td>-1.232408</td>\n",
       "      <td>-0.251820</td>\n",
       "      <td>-0.460371</td>\n",
       "      <td>-0.366668</td>\n",
       "      <td>-0.791750</td>\n",
       "    </tr>\n",
       "    <tr>\n",
       "      <th>813</th>\n",
       "      <td>-0.341288</td>\n",
       "      <td>-0.323820</td>\n",
       "      <td>0.058950</td>\n",
       "      <td>0.364137</td>\n",
       "      <td>-0.630833</td>\n",
       "      <td>-0.130273</td>\n",
       "      <td>-1.940984</td>\n",
       "      <td>0.479986</td>\n",
       "      <td>-0.366668</td>\n",
       "      <td>-0.791750</td>\n",
       "    </tr>\n",
       "    <tr>\n",
       "      <th>814</th>\n",
       "      <td>-1.145189</td>\n",
       "      <td>-0.440687</td>\n",
       "      <td>0.058950</td>\n",
       "      <td>1.504470</td>\n",
       "      <td>-0.630833</td>\n",
       "      <td>-1.232408</td>\n",
       "      <td>-1.096402</td>\n",
       "      <td>-0.460371</td>\n",
       "      <td>0.646329</td>\n",
       "      <td>-0.791750</td>\n",
       "    </tr>\n",
       "  </tbody>\n",
       "</table>\n",
       "<p>815 rows × 10 columns</p>\n",
       "</div>"
      ],
      "text/plain": [
       "     Status_checking  Credit_amount       Age  Duration  Savings_account  \\\n",
       "0           1.266514      -0.987118  0.454377 -0.776196        -0.630833   \n",
       "1          -1.145189       1.417073 -0.534190  1.504470        -0.630833   \n",
       "2          -0.341288       0.690078 -0.435333  1.504470         2.107537   \n",
       "3          -0.341288       3.057419 -0.929616  2.644803         2.107537   \n",
       "4           1.266514      -0.175368  0.157807  0.364137        -0.630833   \n",
       "..               ...            ...       ...       ...              ...   \n",
       "810        -0.341288      -0.336981 -1.127329  0.364137        -0.630833   \n",
       "811        -0.341288      -0.211165 -0.534190 -0.206029         0.053759   \n",
       "812        -0.341288      -0.861828 -0.039907 -0.206029         2.107537   \n",
       "813        -0.341288      -0.323820  0.058950  0.364137        -0.630833   \n",
       "814        -1.145189      -0.440687  0.058950  1.504470        -0.630833   \n",
       "\n",
       "      Purpose  Present_employment  Credit_history  Property  Personal_status  \n",
       "0    0.237106            1.437344       -0.460371  0.646329         0.475983  \n",
       "1   -0.130273           -0.251820        1.420344 -0.366668         0.475983  \n",
       "2    0.604484           -1.096402       -1.400729  1.659326        -0.791750  \n",
       "3   -1.232408            0.592762       -0.460371  0.646329        -0.791750  \n",
       "4   -0.865029            0.592762        1.420344  0.646329         0.475983  \n",
       "..        ...                 ...             ...       ...              ...  \n",
       "810  0.237106           -1.096402       -0.460371 -0.366668         1.743717  \n",
       "811 -1.232408           -1.096402       -2.341087  0.646329        -0.791750  \n",
       "812 -1.232408           -0.251820       -0.460371 -0.366668        -0.791750  \n",
       "813 -0.130273           -1.940984        0.479986 -0.366668        -0.791750  \n",
       "814 -1.232408           -1.096402       -0.460371  0.646329        -0.791750  \n",
       "\n",
       "[815 rows x 10 columns]"
      ]
     },
     "execution_count": 46,
     "metadata": {},
     "output_type": "execute_result"
    }
   ],
   "source": [
    "pd.DataFrame(test_scaler.transform(X_train[selected_features]), columns=selected_features)"
   ]
  },
  {
   "cell_type": "code",
   "execution_count": 47,
   "metadata": {},
   "outputs": [
    {
     "data": {
      "text/html": [
       "<div>\n",
       "<style scoped>\n",
       "    .dataframe tbody tr th:only-of-type {\n",
       "        vertical-align: middle;\n",
       "    }\n",
       "\n",
       "    .dataframe tbody tr th {\n",
       "        vertical-align: top;\n",
       "    }\n",
       "\n",
       "    .dataframe thead th {\n",
       "        text-align: right;\n",
       "    }\n",
       "</style>\n",
       "<table border=\"1\" class=\"dataframe\">\n",
       "  <thead>\n",
       "    <tr style=\"text-align: right;\">\n",
       "      <th></th>\n",
       "      <th>Status_checking</th>\n",
       "      <th>Duration</th>\n",
       "      <th>Credit_history</th>\n",
       "      <th>Purpose</th>\n",
       "      <th>Credit_amount</th>\n",
       "      <th>Savings_account</th>\n",
       "      <th>Present_employment</th>\n",
       "      <th>Installment_rate</th>\n",
       "      <th>Personal_status</th>\n",
       "      <th>Other_debtors</th>\n",
       "      <th>Residence_since</th>\n",
       "      <th>Property</th>\n",
       "      <th>Age</th>\n",
       "      <th>Other_installment_plans</th>\n",
       "      <th>Housing</th>\n",
       "      <th>Existing_credits</th>\n",
       "      <th>Job</th>\n",
       "      <th>Number_liable</th>\n",
       "      <th>Telephone</th>\n",
       "      <th>Foreign_worker</th>\n",
       "    </tr>\n",
       "  </thead>\n",
       "  <tbody>\n",
       "    <tr>\n",
       "      <th>count</th>\n",
       "      <td>815.000000</td>\n",
       "      <td>815.000000</td>\n",
       "      <td>815.000000</td>\n",
       "      <td>815.000000</td>\n",
       "      <td>815.000000</td>\n",
       "      <td>815.000000</td>\n",
       "      <td>815.000000</td>\n",
       "      <td>815.000000</td>\n",
       "      <td>815.000000</td>\n",
       "      <td>815.000000</td>\n",
       "      <td>815.000000</td>\n",
       "      <td>815.000000</td>\n",
       "      <td>815.000000</td>\n",
       "      <td>815.000000</td>\n",
       "      <td>815.000000</td>\n",
       "      <td>815.000000</td>\n",
       "      <td>815.000000</td>\n",
       "      <td>815.0</td>\n",
       "      <td>815.000000</td>\n",
       "      <td>815.000000</td>\n",
       "    </tr>\n",
       "    <tr>\n",
       "      <th>mean</th>\n",
       "      <td>1.424540</td>\n",
       "      <td>20.168098</td>\n",
       "      <td>2.489571</td>\n",
       "      <td>3.354601</td>\n",
       "      <td>2679.128834</td>\n",
       "      <td>0.921472</td>\n",
       "      <td>2.298160</td>\n",
       "      <td>3.012270</td>\n",
       "      <td>1.624540</td>\n",
       "      <td>0.121472</td>\n",
       "      <td>2.780368</td>\n",
       "      <td>1.361963</td>\n",
       "      <td>33.403681</td>\n",
       "      <td>1.665031</td>\n",
       "      <td>0.855215</td>\n",
       "      <td>1.332515</td>\n",
       "      <td>1.925153</td>\n",
       "      <td>1.0</td>\n",
       "      <td>0.377914</td>\n",
       "      <td>0.029448</td>\n",
       "    </tr>\n",
       "    <tr>\n",
       "      <th>std</th>\n",
       "      <td>1.244698</td>\n",
       "      <td>10.529704</td>\n",
       "      <td>1.064078</td>\n",
       "      <td>2.723661</td>\n",
       "      <td>1900.766073</td>\n",
       "      <td>1.461620</td>\n",
       "      <td>1.184745</td>\n",
       "      <td>1.093805</td>\n",
       "      <td>0.789294</td>\n",
       "      <td>0.436332</td>\n",
       "      <td>1.122522</td>\n",
       "      <td>0.987776</td>\n",
       "      <td>10.121873</td>\n",
       "      <td>0.698852</td>\n",
       "      <td>0.530304</td>\n",
       "      <td>0.501703</td>\n",
       "      <td>0.603465</td>\n",
       "      <td>0.0</td>\n",
       "      <td>0.485164</td>\n",
       "      <td>0.169162</td>\n",
       "    </tr>\n",
       "    <tr>\n",
       "      <th>min</th>\n",
       "      <td>0.000000</td>\n",
       "      <td>6.000000</td>\n",
       "      <td>0.000000</td>\n",
       "      <td>0.000000</td>\n",
       "      <td>276.000000</td>\n",
       "      <td>0.000000</td>\n",
       "      <td>0.000000</td>\n",
       "      <td>1.000000</td>\n",
       "      <td>0.000000</td>\n",
       "      <td>0.000000</td>\n",
       "      <td>1.000000</td>\n",
       "      <td>0.000000</td>\n",
       "      <td>19.000000</td>\n",
       "      <td>0.000000</td>\n",
       "      <td>0.000000</td>\n",
       "      <td>1.000000</td>\n",
       "      <td>0.000000</td>\n",
       "      <td>1.0</td>\n",
       "      <td>0.000000</td>\n",
       "      <td>0.000000</td>\n",
       "    </tr>\n",
       "    <tr>\n",
       "      <th>25%</th>\n",
       "      <td>0.000000</td>\n",
       "      <td>12.000000</td>\n",
       "      <td>2.000000</td>\n",
       "      <td>1.000000</td>\n",
       "      <td>1296.000000</td>\n",
       "      <td>0.000000</td>\n",
       "      <td>1.000000</td>\n",
       "      <td>2.000000</td>\n",
       "      <td>1.000000</td>\n",
       "      <td>0.000000</td>\n",
       "      <td>2.000000</td>\n",
       "      <td>0.000000</td>\n",
       "      <td>26.000000</td>\n",
       "      <td>2.000000</td>\n",
       "      <td>1.000000</td>\n",
       "      <td>1.000000</td>\n",
       "      <td>2.000000</td>\n",
       "      <td>1.0</td>\n",
       "      <td>0.000000</td>\n",
       "      <td>0.000000</td>\n",
       "    </tr>\n",
       "    <tr>\n",
       "      <th>50%</th>\n",
       "      <td>1.000000</td>\n",
       "      <td>18.000000</td>\n",
       "      <td>2.000000</td>\n",
       "      <td>3.000000</td>\n",
       "      <td>2064.000000</td>\n",
       "      <td>0.000000</td>\n",
       "      <td>2.000000</td>\n",
       "      <td>3.000000</td>\n",
       "      <td>2.000000</td>\n",
       "      <td>0.000000</td>\n",
       "      <td>3.000000</td>\n",
       "      <td>1.000000</td>\n",
       "      <td>31.000000</td>\n",
       "      <td>2.000000</td>\n",
       "      <td>1.000000</td>\n",
       "      <td>1.000000</td>\n",
       "      <td>2.000000</td>\n",
       "      <td>1.0</td>\n",
       "      <td>0.000000</td>\n",
       "      <td>0.000000</td>\n",
       "    </tr>\n",
       "    <tr>\n",
       "      <th>75%</th>\n",
       "      <td>3.000000</td>\n",
       "      <td>24.000000</td>\n",
       "      <td>4.000000</td>\n",
       "      <td>4.000000</td>\n",
       "      <td>3515.000000</td>\n",
       "      <td>1.000000</td>\n",
       "      <td>3.000000</td>\n",
       "      <td>4.000000</td>\n",
       "      <td>2.000000</td>\n",
       "      <td>0.000000</td>\n",
       "      <td>4.000000</td>\n",
       "      <td>2.000000</td>\n",
       "      <td>38.000000</td>\n",
       "      <td>2.000000</td>\n",
       "      <td>1.000000</td>\n",
       "      <td>2.000000</td>\n",
       "      <td>2.000000</td>\n",
       "      <td>1.0</td>\n",
       "      <td>1.000000</td>\n",
       "      <td>0.000000</td>\n",
       "    </tr>\n",
       "    <tr>\n",
       "      <th>max</th>\n",
       "      <td>3.000000</td>\n",
       "      <td>48.000000</td>\n",
       "      <td>4.000000</td>\n",
       "      <td>9.000000</td>\n",
       "      <td>8613.000000</td>\n",
       "      <td>4.000000</td>\n",
       "      <td>4.000000</td>\n",
       "      <td>4.000000</td>\n",
       "      <td>3.000000</td>\n",
       "      <td>2.000000</td>\n",
       "      <td>4.000000</td>\n",
       "      <td>3.000000</td>\n",
       "      <td>62.000000</td>\n",
       "      <td>2.000000</td>\n",
       "      <td>2.000000</td>\n",
       "      <td>3.000000</td>\n",
       "      <td>3.000000</td>\n",
       "      <td>1.0</td>\n",
       "      <td>1.000000</td>\n",
       "      <td>1.000000</td>\n",
       "    </tr>\n",
       "  </tbody>\n",
       "</table>\n",
       "</div>"
      ],
      "text/plain": [
       "       Status_checking    Duration  Credit_history     Purpose  Credit_amount  \\\n",
       "count       815.000000  815.000000      815.000000  815.000000     815.000000   \n",
       "mean          1.424540   20.168098        2.489571    3.354601    2679.128834   \n",
       "std           1.244698   10.529704        1.064078    2.723661    1900.766073   \n",
       "min           0.000000    6.000000        0.000000    0.000000     276.000000   \n",
       "25%           0.000000   12.000000        2.000000    1.000000    1296.000000   \n",
       "50%           1.000000   18.000000        2.000000    3.000000    2064.000000   \n",
       "75%           3.000000   24.000000        4.000000    4.000000    3515.000000   \n",
       "max           3.000000   48.000000        4.000000    9.000000    8613.000000   \n",
       "\n",
       "       Savings_account  Present_employment  Installment_rate  Personal_status  \\\n",
       "count       815.000000          815.000000        815.000000       815.000000   \n",
       "mean          0.921472            2.298160          3.012270         1.624540   \n",
       "std           1.461620            1.184745          1.093805         0.789294   \n",
       "min           0.000000            0.000000          1.000000         0.000000   \n",
       "25%           0.000000            1.000000          2.000000         1.000000   \n",
       "50%           0.000000            2.000000          3.000000         2.000000   \n",
       "75%           1.000000            3.000000          4.000000         2.000000   \n",
       "max           4.000000            4.000000          4.000000         3.000000   \n",
       "\n",
       "       Other_debtors  Residence_since    Property         Age  \\\n",
       "count     815.000000       815.000000  815.000000  815.000000   \n",
       "mean        0.121472         2.780368    1.361963   33.403681   \n",
       "std         0.436332         1.122522    0.987776   10.121873   \n",
       "min         0.000000         1.000000    0.000000   19.000000   \n",
       "25%         0.000000         2.000000    0.000000   26.000000   \n",
       "50%         0.000000         3.000000    1.000000   31.000000   \n",
       "75%         0.000000         4.000000    2.000000   38.000000   \n",
       "max         2.000000         4.000000    3.000000   62.000000   \n",
       "\n",
       "       Other_installment_plans     Housing  Existing_credits         Job  \\\n",
       "count               815.000000  815.000000        815.000000  815.000000   \n",
       "mean                  1.665031    0.855215          1.332515    1.925153   \n",
       "std                   0.698852    0.530304          0.501703    0.603465   \n",
       "min                   0.000000    0.000000          1.000000    0.000000   \n",
       "25%                   2.000000    1.000000          1.000000    2.000000   \n",
       "50%                   2.000000    1.000000          1.000000    2.000000   \n",
       "75%                   2.000000    1.000000          2.000000    2.000000   \n",
       "max                   2.000000    2.000000          3.000000    3.000000   \n",
       "\n",
       "       Number_liable   Telephone  Foreign_worker  \n",
       "count          815.0  815.000000      815.000000  \n",
       "mean             1.0    0.377914        0.029448  \n",
       "std              0.0    0.485164        0.169162  \n",
       "min              1.0    0.000000        0.000000  \n",
       "25%              1.0    0.000000        0.000000  \n",
       "50%              1.0    0.000000        0.000000  \n",
       "75%              1.0    1.000000        0.000000  \n",
       "max              1.0    1.000000        1.000000  "
      ]
     },
     "execution_count": 47,
     "metadata": {},
     "output_type": "execute_result"
    }
   ],
   "source": [
    "X_train.describe()"
   ]
  },
  {
   "cell_type": "code",
   "execution_count": 48,
   "metadata": {},
   "outputs": [],
   "source": [
    "newData = {\n",
    "    'Status_checking': [0], \n",
    "    'Credit_amount': [0], \n",
    "    'Age': [19], \n",
    "    'Duration': [6], \n",
    "    'Savings_account': [0], \n",
    "    'Purpose': [0], \n",
    "    'Present_employment': [0], \n",
    "    'Credit_history': [0], \n",
    "    'Property': [0], \n",
    "    'Personal_status': [0]\n",
    "}"
   ]
  },
  {
   "cell_type": "code",
   "execution_count": 49,
   "metadata": {},
   "outputs": [],
   "source": [
    "newdf = pd.DataFrame(newData)"
   ]
  },
  {
   "cell_type": "code",
   "execution_count": 50,
   "metadata": {},
   "outputs": [
    {
     "data": {
      "text/html": [
       "<div>\n",
       "<style scoped>\n",
       "    .dataframe tbody tr th:only-of-type {\n",
       "        vertical-align: middle;\n",
       "    }\n",
       "\n",
       "    .dataframe tbody tr th {\n",
       "        vertical-align: top;\n",
       "    }\n",
       "\n",
       "    .dataframe thead th {\n",
       "        text-align: right;\n",
       "    }\n",
       "</style>\n",
       "<table border=\"1\" class=\"dataframe\">\n",
       "  <thead>\n",
       "    <tr style=\"text-align: right;\">\n",
       "      <th></th>\n",
       "      <th>Status_checking</th>\n",
       "      <th>Credit_amount</th>\n",
       "      <th>Age</th>\n",
       "      <th>Duration</th>\n",
       "      <th>Savings_account</th>\n",
       "      <th>Purpose</th>\n",
       "      <th>Present_employment</th>\n",
       "      <th>Credit_history</th>\n",
       "      <th>Property</th>\n",
       "      <th>Personal_status</th>\n",
       "    </tr>\n",
       "  </thead>\n",
       "  <tbody>\n",
       "    <tr>\n",
       "      <th>0</th>\n",
       "      <td>0</td>\n",
       "      <td>0</td>\n",
       "      <td>19</td>\n",
       "      <td>6</td>\n",
       "      <td>0</td>\n",
       "      <td>0</td>\n",
       "      <td>0</td>\n",
       "      <td>0</td>\n",
       "      <td>0</td>\n",
       "      <td>0</td>\n",
       "    </tr>\n",
       "  </tbody>\n",
       "</table>\n",
       "</div>"
      ],
      "text/plain": [
       "   Status_checking  Credit_amount  Age  Duration  Savings_account  Purpose  \\\n",
       "0                0              0   19         6                0        0   \n",
       "\n",
       "   Present_employment  Credit_history  Property  Personal_status  \n",
       "0                   0               0         0                0  "
      ]
     },
     "execution_count": 50,
     "metadata": {},
     "output_type": "execute_result"
    }
   ],
   "source": [
    "newdf.head()"
   ]
  },
  {
   "cell_type": "code",
   "execution_count": 51,
   "metadata": {},
   "outputs": [
    {
     "data": {
      "text/html": [
       "<div>\n",
       "<style scoped>\n",
       "    .dataframe tbody tr th:only-of-type {\n",
       "        vertical-align: middle;\n",
       "    }\n",
       "\n",
       "    .dataframe tbody tr th {\n",
       "        vertical-align: top;\n",
       "    }\n",
       "\n",
       "    .dataframe thead th {\n",
       "        text-align: right;\n",
       "    }\n",
       "</style>\n",
       "<table border=\"1\" class=\"dataframe\">\n",
       "  <thead>\n",
       "    <tr style=\"text-align: right;\">\n",
       "      <th></th>\n",
       "      <th>Status_checking</th>\n",
       "      <th>Credit_amount</th>\n",
       "      <th>Age</th>\n",
       "      <th>Duration</th>\n",
       "      <th>Savings_account</th>\n",
       "      <th>Purpose</th>\n",
       "      <th>Present_employment</th>\n",
       "      <th>Credit_history</th>\n",
       "      <th>Property</th>\n",
       "      <th>Personal_status</th>\n",
       "    </tr>\n",
       "  </thead>\n",
       "  <tbody>\n",
       "    <tr>\n",
       "      <th>0</th>\n",
       "      <td>-1.145189</td>\n",
       "      <td>-1.410365</td>\n",
       "      <td>-1.423899</td>\n",
       "      <td>-1.346363</td>\n",
       "      <td>-0.630833</td>\n",
       "      <td>-1.232408</td>\n",
       "      <td>-1.940984</td>\n",
       "      <td>-2.341087</td>\n",
       "      <td>-1.379665</td>\n",
       "      <td>-2.059484</td>\n",
       "    </tr>\n",
       "  </tbody>\n",
       "</table>\n",
       "</div>"
      ],
      "text/plain": [
       "   Status_checking  Credit_amount       Age  Duration  Savings_account  \\\n",
       "0        -1.145189      -1.410365 -1.423899 -1.346363        -0.630833   \n",
       "\n",
       "    Purpose  Present_employment  Credit_history  Property  Personal_status  \n",
       "0 -1.232408           -1.940984       -2.341087 -1.379665        -2.059484  "
      ]
     },
     "execution_count": 51,
     "metadata": {},
     "output_type": "execute_result"
    }
   ],
   "source": [
    "pd.DataFrame(test_scaler.transform(newdf), columns=selected_features)"
   ]
  },
  {
   "cell_type": "code",
   "execution_count": null,
   "metadata": {},
   "outputs": [],
   "source": []
  }
 ],
 "metadata": {
  "kernelspec": {
   "display_name": "Python 3",
   "language": "python",
   "name": "python3"
  },
  "language_info": {
   "codemirror_mode": {
    "name": "ipython",
    "version": 3
   },
   "file_extension": ".py",
   "mimetype": "text/x-python",
   "name": "python",
   "nbconvert_exporter": "python",
   "pygments_lexer": "ipython3",
   "version": "3.8.5"
  }
 },
 "nbformat": 4,
 "nbformat_minor": 5
}
